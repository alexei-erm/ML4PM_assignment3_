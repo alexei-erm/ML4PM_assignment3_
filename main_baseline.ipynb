{
 "cells": [
  {
   "cell_type": "code",
   "execution_count": 1,
   "metadata": {},
   "outputs": [],
   "source": [
    "from model import *\n",
    "from utils import *\n",
    "from training import *\n",
    "\n",
    "import importlib\n",
    "import imports\n",
    "importlib.reload(imports)\n",
    "device = 'mps'"
   ]
  },
  {
   "cell_type": "code",
   "execution_count": 2,
   "metadata": {
    "colab": {
     "base_uri": "https://localhost:8080/"
    },
    "id": "_ccLNkIa9Xvx",
    "outputId": "1dd1e3d4-4587-46f1-871e-f72159be57c3"
   },
   "outputs": [
    {
     "name": "stdout",
     "output_type": "stream",
     "text": [
      "/Users/alexei.ermochkine/Desktop/ma5/ML4PM/assignment_3_graded/ML4PM_assignment3/ncmapps_ds02.csv\n"
     ]
    }
   ],
   "source": [
    "folder = os.getcwd()\n",
    "filename = f'{folder}/ncmapps_ds02.csv'\n",
    "print(filename)"
   ]
  },
  {
   "cell_type": "code",
   "execution_count": 3,
   "metadata": {
    "colab": {
     "base_uri": "https://localhost:8080/",
     "height": 235
    },
    "id": "Au1CJA3b95-f",
    "outputId": "b873d351-3e30-4240-d04e-c24c4ffc9520"
   },
   "outputs": [
    {
     "data": {
      "text/html": [
       "<div>\n",
       "<style scoped>\n",
       "    .dataframe tbody tr th:only-of-type {\n",
       "        vertical-align: middle;\n",
       "    }\n",
       "\n",
       "    .dataframe tbody tr th {\n",
       "        vertical-align: top;\n",
       "    }\n",
       "\n",
       "    .dataframe thead th {\n",
       "        text-align: right;\n",
       "    }\n",
       "</style>\n",
       "<table border=\"1\" class=\"dataframe\">\n",
       "  <thead>\n",
       "    <tr style=\"text-align: right;\">\n",
       "      <th></th>\n",
       "      <th>T24</th>\n",
       "      <th>T30</th>\n",
       "      <th>T48</th>\n",
       "      <th>T50</th>\n",
       "      <th>P15</th>\n",
       "      <th>P2</th>\n",
       "      <th>P21</th>\n",
       "      <th>P24</th>\n",
       "      <th>Ps30</th>\n",
       "      <th>P40</th>\n",
       "      <th>...</th>\n",
       "      <th>Wf</th>\n",
       "      <th>alt</th>\n",
       "      <th>Mach</th>\n",
       "      <th>TRA</th>\n",
       "      <th>T2</th>\n",
       "      <th>RUL</th>\n",
       "      <th>Fc</th>\n",
       "      <th>unit</th>\n",
       "      <th>hs</th>\n",
       "      <th>cycle</th>\n",
       "    </tr>\n",
       "  </thead>\n",
       "  <tbody>\n",
       "    <tr>\n",
       "      <th>0</th>\n",
       "      <td>593.28656</td>\n",
       "      <td>1422.0460</td>\n",
       "      <td>1797.2323</td>\n",
       "      <td>1214.0819</td>\n",
       "      <td>15.626362</td>\n",
       "      <td>11.445379</td>\n",
       "      <td>15.864327</td>\n",
       "      <td>19.897537</td>\n",
       "      <td>327.51962</td>\n",
       "      <td>332.79700</td>\n",
       "      <td>...</td>\n",
       "      <td>3.811431</td>\n",
       "      <td>9889.289</td>\n",
       "      <td>0.443401</td>\n",
       "      <td>76.022545</td>\n",
       "      <td>496.67758</td>\n",
       "      <td>74</td>\n",
       "      <td>3</td>\n",
       "      <td>2</td>\n",
       "      <td>1</td>\n",
       "      <td>1</td>\n",
       "    </tr>\n",
       "    <tr>\n",
       "      <th>1</th>\n",
       "      <td>593.30220</td>\n",
       "      <td>1422.3720</td>\n",
       "      <td>1797.9927</td>\n",
       "      <td>1214.1847</td>\n",
       "      <td>15.607640</td>\n",
       "      <td>11.424822</td>\n",
       "      <td>15.845321</td>\n",
       "      <td>19.881628</td>\n",
       "      <td>327.48330</td>\n",
       "      <td>332.75565</td>\n",
       "      <td>...</td>\n",
       "      <td>3.812693</td>\n",
       "      <td>9951.729</td>\n",
       "      <td>0.444472</td>\n",
       "      <td>76.222015</td>\n",
       "      <td>496.53890</td>\n",
       "      <td>74</td>\n",
       "      <td>3</td>\n",
       "      <td>2</td>\n",
       "      <td>1</td>\n",
       "      <td>1</td>\n",
       "    </tr>\n",
       "    <tr>\n",
       "      <th>2</th>\n",
       "      <td>593.14215</td>\n",
       "      <td>1421.8730</td>\n",
       "      <td>1797.1808</td>\n",
       "      <td>1213.5430</td>\n",
       "      <td>15.581609</td>\n",
       "      <td>11.407368</td>\n",
       "      <td>15.818893</td>\n",
       "      <td>19.848164</td>\n",
       "      <td>326.81784</td>\n",
       "      <td>332.08163</td>\n",
       "      <td>...</td>\n",
       "      <td>3.803472</td>\n",
       "      <td>10011.879</td>\n",
       "      <td>0.445830</td>\n",
       "      <td>76.191210</td>\n",
       "      <td>496.43396</td>\n",
       "      <td>74</td>\n",
       "      <td>3</td>\n",
       "      <td>2</td>\n",
       "      <td>1</td>\n",
       "      <td>1</td>\n",
       "    </tr>\n",
       "    <tr>\n",
       "      <th>3</th>\n",
       "      <td>592.98883</td>\n",
       "      <td>1421.4746</td>\n",
       "      <td>1796.5925</td>\n",
       "      <td>1213.0120</td>\n",
       "      <td>15.554759</td>\n",
       "      <td>11.387945</td>\n",
       "      <td>15.791634</td>\n",
       "      <td>19.814800</td>\n",
       "      <td>326.22076</td>\n",
       "      <td>331.47592</td>\n",
       "      <td>...</td>\n",
       "      <td>3.795554</td>\n",
       "      <td>10073.271</td>\n",
       "      <td>0.446986</td>\n",
       "      <td>76.196846</td>\n",
       "      <td>496.30667</td>\n",
       "      <td>74</td>\n",
       "      <td>3</td>\n",
       "      <td>2</td>\n",
       "      <td>1</td>\n",
       "      <td>1</td>\n",
       "    </tr>\n",
       "    <tr>\n",
       "      <th>4</th>\n",
       "      <td>592.66296</td>\n",
       "      <td>1420.8185</td>\n",
       "      <td>1795.7623</td>\n",
       "      <td>1212.4274</td>\n",
       "      <td>15.512026</td>\n",
       "      <td>11.356153</td>\n",
       "      <td>15.748249</td>\n",
       "      <td>19.760134</td>\n",
       "      <td>325.36660</td>\n",
       "      <td>330.60760</td>\n",
       "      <td>...</td>\n",
       "      <td>3.784542</td>\n",
       "      <td>10136.359</td>\n",
       "      <td>0.446471</td>\n",
       "      <td>76.204480</td>\n",
       "      <td>496.02774</td>\n",
       "      <td>74</td>\n",
       "      <td>3</td>\n",
       "      <td>2</td>\n",
       "      <td>1</td>\n",
       "      <td>1</td>\n",
       "    </tr>\n",
       "  </tbody>\n",
       "</table>\n",
       "<p>5 rows × 23 columns</p>\n",
       "</div>"
      ],
      "text/plain": [
       "         T24        T30        T48        T50        P15         P2  \\\n",
       "0  593.28656  1422.0460  1797.2323  1214.0819  15.626362  11.445379   \n",
       "1  593.30220  1422.3720  1797.9927  1214.1847  15.607640  11.424822   \n",
       "2  593.14215  1421.8730  1797.1808  1213.5430  15.581609  11.407368   \n",
       "3  592.98883  1421.4746  1796.5925  1213.0120  15.554759  11.387945   \n",
       "4  592.66296  1420.8185  1795.7623  1212.4274  15.512026  11.356153   \n",
       "\n",
       "         P21        P24       Ps30        P40  ...        Wf        alt  \\\n",
       "0  15.864327  19.897537  327.51962  332.79700  ...  3.811431   9889.289   \n",
       "1  15.845321  19.881628  327.48330  332.75565  ...  3.812693   9951.729   \n",
       "2  15.818893  19.848164  326.81784  332.08163  ...  3.803472  10011.879   \n",
       "3  15.791634  19.814800  326.22076  331.47592  ...  3.795554  10073.271   \n",
       "4  15.748249  19.760134  325.36660  330.60760  ...  3.784542  10136.359   \n",
       "\n",
       "       Mach        TRA         T2  RUL  Fc  unit  hs  cycle  \n",
       "0  0.443401  76.022545  496.67758   74   3     2   1      1  \n",
       "1  0.444472  76.222015  496.53890   74   3     2   1      1  \n",
       "2  0.445830  76.191210  496.43396   74   3     2   1      1  \n",
       "3  0.446986  76.196846  496.30667   74   3     2   1      1  \n",
       "4  0.446471  76.204480  496.02774   74   3     2   1      1  \n",
       "\n",
       "[5 rows x 23 columns]"
      ]
     },
     "execution_count": 3,
     "metadata": {},
     "output_type": "execute_result"
    }
   ],
   "source": [
    "df = pd.read_csv(filename)\n",
    "df.head()"
   ]
  },
  {
   "cell_type": "code",
   "execution_count": 4,
   "metadata": {
    "id": "j-WToY0EQ8gJ"
   },
   "outputs": [],
   "source": [
    "LABELS = ['RUL']"
   ]
  },
  {
   "cell_type": "markdown",
   "metadata": {
    "id": "dQUvTSv8GSeE"
   },
   "source": [
    "Operative Conditions ($w$)\n",
    "\n",
    "DASHlink- Flight Data For Tail 687.(2012). Retrieved on 2019-01-29 from https://c3.nasa.gov/dashlink/"
   ]
  },
  {
   "cell_type": "code",
   "execution_count": 5,
   "metadata": {
    "id": "HrHh3rYqGhGt"
   },
   "outputs": [],
   "source": [
    "W_VAR = ['alt', 'Mach', 'TRA', 'T2']"
   ]
  },
  {
   "cell_type": "markdown",
   "metadata": {
    "id": "yQvRwIJqGN7H"
   },
   "source": [
    "Sensor readings ($X_s$)"
   ]
  },
  {
   "cell_type": "code",
   "execution_count": 6,
   "metadata": {
    "id": "PjgyPJPNGiOI"
   },
   "outputs": [],
   "source": [
    "XS_VAR = ['T24', 'T30', 'T48', 'T50', 'P15', 'P2', 'P21', 'P24', 'Ps30', 'P40', 'P50', 'Nf', 'Nc', 'Wf']\n"
   ]
  },
  {
   "cell_type": "code",
   "execution_count": null,
   "metadata": {},
   "outputs": [
    {
     "name": "stdout",
     "output_type": "stream",
     "text": [
      "train_size: 403236\tvalidation_size: 100809\ttest_size: 115274\n"
     ]
    }
   ],
   "source": [
    "# dataset parameters\n",
    "TRAIN_UNITS = [2, 5, 10, 16, 18, 20]\n",
    "TEST_UNITS = [11, 14, 15]\n",
    "\n",
    "DEFAULT_PARAMS = {\n",
    "    # CNN model parameters\n",
    "    'in_channels': 18, \n",
    "    'out_channels': 1,\n",
    "    'window': 50, \n",
    "    'n_ch': 10, \n",
    "    'n_k': 10, \n",
    "    'n_hidden': 50, \n",
    "    'n_layers': 3,\n",
    "    'dropout': 0.,\n",
    "    'padding': 'same',\n",
    "    # training parameters\n",
    "    'batch_size': 512,  \n",
    "    'base_lr': 1e-3,\n",
    "    'weight_decay': 1e-5,\n",
    "    'max_epochs': 50\n",
    "}\n",
    "\n",
    "\n",
    "\n",
    "DATASETS = create_datasets(df, window_size=DEFAULT_PARAMS['window'], train_units=TRAIN_UNITS, test_units=TEST_UNITS)\n",
    "LOADERS = create_data_loaders(DATASETS, batch_size=DEFAULT_PARAMS['batch_size'], val_split=0.2)"
   ]
  },
  {
   "cell_type": "markdown",
   "metadata": {},
   "source": [
    "## Aggregate results of multiple runs"
   ]
  },
  {
   "cell_type": "code",
   "execution_count": 8,
   "metadata": {},
   "outputs": [],
   "source": [
    "def run_single(seed, params=DEFAULT_PARAMS):\n",
    "    seed_everything(seed)\n",
    "\n",
    "    model = CNN(\n",
    "        in_channels=params['in_channels'],\n",
    "        out_channels=params['out_channels'], \n",
    "        n_ch=params['n_ch'],\n",
    "        n_k=params['n_k'],\n",
    "        n_hidden=params['n_hidden'],\n",
    "        n_layers=params['n_layers'],\n",
    "        dropout=params['dropout'],\n",
    "    ).to(device)  # Move model to device immediately after creation\n",
    "\n",
    "    optimizer = torch.optim.Adam(\n",
    "        model.parameters(),\n",
    "        lr=params['base_lr'],\n",
    "        weight_decay=params['weight_decay'],\n",
    "    )\n",
    "\n",
    "    criterion = nn.MSELoss()\n",
    "    trainer = Trainer(\n",
    "        model,\n",
    "        optimizer,\n",
    "        criterion=criterion,\n",
    "        n_epochs=params['max_epochs'],\n",
    "        seed=seed,\n",
    "        device=device  # Pass device to trainer\n",
    "    )\n",
    "\n",
    "    trainer.fit(LOADERS)\n",
    "    df_eval, df_eval_out = trainer.eval_rul_prediction(LOADERS[1])\n",
    "    df_test, df_test_out = trainer.eval_rul_prediction(LOADERS[2])\n",
    "    return df_eval, df_eval_out, df_test, df_test_out"
   ]
  },
  {
   "cell_type": "code",
   "execution_count": 10,
   "metadata": {},
   "outputs": [
    {
     "name": "stdout",
     "output_type": "stream",
     "text": [
      "Training model for 3 epochs...\n"
     ]
    },
    {
     "name": "stderr",
     "output_type": "stream",
     "text": [
      "/Users/alexei.ermochkine/Desktop/ma5/ML4PM/venv4ml4pm/lib/python3.12/site-packages/torch/nn/modules/conv.py:304: UserWarning: Using padding='same' with even kernel lengths and odd dilation may require a zero-padded copy of the input be created (Triggered internally at /Users/runner/work/pytorch/pytorch/pytorch/aten/src/ATen/native/Convolution.cpp:1032.)\n",
      "  return F.conv1d(input, weight, bias, self.stride,\n"
     ]
    },
    {
     "name": "stdout",
     "output_type": "stream",
     "text": [
      "[Epoch 1] train_loss = 264.47134, eval_loss = 205.88464, test_loss = 420.09033 [14.0s]\n",
      "[Epoch 2] train_loss = 53.40139, eval_loss = 731.37335, test_loss = 1376.40454 [13.6s]\n"
     ]
    },
    {
     "name": "stderr",
     "output_type": "stream",
     "text": [
      "/Users/alexei.ermochkine/Desktop/ma5/ML4PM/assignment_3_graded/ML4PM_assignment3/training.py:187: FutureWarning: You are using `torch.load` with `weights_only=False` (the current default value), which uses the default pickle module implicitly. It is possible to construct malicious pickle data which will execute arbitrary code during unpickling (See https://github.com/pytorch/pytorch/blob/main/SECURITY.md#untrusted-models for more details). In a future release, the default value for `weights_only` will be flipped to `True`. This limits the functions that could be executed during unpickling. Arbitrary objects will no longer be allowed to be loaded via this mode unless they are explicitly allowlisted by the user via `torch.serialization.add_safe_globals`. We recommend you start setting `weights_only=True` for any use case where you don't have full control of the loaded file. Please open an issue on GitHub for any issues related to this experimental feature.\n",
      "  model.load_state_dict(torch.load(model_path, map_location=self.device))\n"
     ]
    },
    {
     "name": "stdout",
     "output_type": "stream",
     "text": [
      "[Epoch 3] train_loss = 50.94416, eval_loss = 48.67375, test_loss = 53.00978 [13.9s]\n",
      "Task done in 41s\n",
      "Evaluating test RUL...\n",
      "Model CNN saved in models_baseline/best_model_baseline_1103112648.pt loaded to mps\n"
     ]
    },
    {
     "name": "stderr",
     "output_type": "stream",
     "text": [
      "100%|██████████| 99/99 [00:01<00:00, 53.58it/s]\n"
     ]
    },
    {
     "name": "stdout",
     "output_type": "stream",
     "text": [
      "Evaluating test RUL...\n",
      "Model CNN saved in models_baseline/best_model_baseline_1103112648.pt loaded to mps\n"
     ]
    },
    {
     "name": "stderr",
     "output_type": "stream",
     "text": [
      "100%|██████████| 113/113 [00:01<00:00, 63.18it/s]\n"
     ]
    },
    {
     "name": "stdout",
     "output_type": "stream",
     "text": [
      "Training model for 3 epochs...\n",
      "[Epoch 1] train_loss = 240.58371, eval_loss = 222.97217, test_loss = 180.40923 [13.5s]\n",
      "[Epoch 2] train_loss = 56.17092, eval_loss = 223.97382, test_loss = 168.28877 [13.7s]\n",
      "[Epoch 3] train_loss = 52.02872, eval_loss = 77.36838, test_loss = 169.79596 [13.4s]\n",
      "Task done in 40s\n",
      "Evaluating test RUL...\n",
      "Model CNN saved in models_baseline/best_model_baseline_1103112733.pt loaded to mps\n"
     ]
    },
    {
     "name": "stderr",
     "output_type": "stream",
     "text": [
      "100%|██████████| 99/99 [00:01<00:00, 52.20it/s]\n"
     ]
    },
    {
     "name": "stdout",
     "output_type": "stream",
     "text": [
      "Evaluating test RUL...\n",
      "Model CNN saved in models_baseline/best_model_baseline_1103112733.pt loaded to mps\n"
     ]
    },
    {
     "name": "stderr",
     "output_type": "stream",
     "text": [
      "100%|██████████| 113/113 [00:01<00:00, 62.17it/s]\n"
     ]
    },
    {
     "name": "stdout",
     "output_type": "stream",
     "text": [
      "Training model for 3 epochs...\n",
      "[Epoch 1] train_loss = 250.24571, eval_loss = 72.60593, test_loss = 175.12018 [13.6s]\n",
      "[Epoch 2] train_loss = 52.59269, eval_loss = 143.25771, test_loss = 131.71573 [14.4s]\n",
      "[Epoch 3] train_loss = 49.58310, eval_loss = 128.49615, test_loss = 312.94199 [13.5s]\n",
      "Task done in 41s\n",
      "Evaluating test RUL...\n",
      "Model CNN saved in models_baseline/best_model_baseline_1103112817.pt loaded to mps\n"
     ]
    },
    {
     "name": "stderr",
     "output_type": "stream",
     "text": [
      "100%|██████████| 99/99 [00:01<00:00, 52.12it/s]\n"
     ]
    },
    {
     "name": "stdout",
     "output_type": "stream",
     "text": [
      "Evaluating test RUL...\n",
      "Model CNN saved in models_baseline/best_model_baseline_1103112817.pt loaded to mps\n"
     ]
    },
    {
     "name": "stderr",
     "output_type": "stream",
     "text": [
      "100%|██████████| 113/113 [00:01<00:00, 61.78it/s]\n"
     ]
    },
    {
     "name": "stdout",
     "output_type": "stream",
     "text": [
      "Training model for 3 epochs...\n",
      "[Epoch 1] train_loss = 237.97797, eval_loss = 58.22810, test_loss = 108.21429 [13.5s]\n",
      "[Epoch 2] train_loss = 57.23361, eval_loss = 129.29951, test_loss = 75.61677 [13.4s]\n",
      "[Epoch 3] train_loss = 53.69719, eval_loss = 55.13306, test_loss = 80.76507 [13.2s]\n",
      "Task done in 40s\n",
      "Evaluating test RUL...\n",
      "Model CNN saved in models_baseline/best_model_baseline_1103112903.pt loaded to mps\n"
     ]
    },
    {
     "name": "stderr",
     "output_type": "stream",
     "text": [
      "100%|██████████| 99/99 [00:01<00:00, 54.94it/s]\n"
     ]
    },
    {
     "name": "stdout",
     "output_type": "stream",
     "text": [
      "Evaluating test RUL...\n",
      "Model CNN saved in models_baseline/best_model_baseline_1103112903.pt loaded to mps\n"
     ]
    },
    {
     "name": "stderr",
     "output_type": "stream",
     "text": [
      "100%|██████████| 113/113 [00:01<00:00, 64.85it/s]\n"
     ]
    },
    {
     "name": "stdout",
     "output_type": "stream",
     "text": [
      "Training model for 3 epochs...\n",
      "[Epoch 1] train_loss = 287.11438, eval_loss = 120.26955, test_loss = 299.01245 [13.6s]\n",
      "[Epoch 2] train_loss = 54.53247, eval_loss = 181.94070, test_loss = 414.80209 [13.5s]\n",
      "[Epoch 3] train_loss = 49.71726, eval_loss = 70.71227, test_loss = 71.02855 [14.0s]\n",
      "Task done in 41s\n",
      "Evaluating test RUL...\n",
      "Model CNN saved in models_baseline/best_model_baseline_1103112946.pt loaded to mps\n"
     ]
    },
    {
     "name": "stderr",
     "output_type": "stream",
     "text": [
      "100%|██████████| 99/99 [00:01<00:00, 53.22it/s]\n"
     ]
    },
    {
     "name": "stdout",
     "output_type": "stream",
     "text": [
      "Evaluating test RUL...\n",
      "Model CNN saved in models_baseline/best_model_baseline_1103112946.pt loaded to mps\n"
     ]
    },
    {
     "name": "stderr",
     "output_type": "stream",
     "text": [
      "100%|██████████| 113/113 [00:02<00:00, 56.15it/s]\n"
     ]
    }
   ],
   "source": [
    "SEED = 42\n",
    "seed_everything(SEED)\n",
    "device = 'mps'\n",
    "N_RUNS = 5\n",
    "df_list = []  \n",
    "\n",
    "for seed in range(SEED, SEED+N_RUNS):\n",
    "    df_eval, df_eval_out, df_test, df_test_out = run_single(seed)\n",
    "    df_list.append(df_test_out)  \n",
    "\n",
    "df_all = pd.concat(df_list, ignore_index=True)  "
   ]
  },
  {
   "cell_type": "code",
   "execution_count": 21,
   "metadata": {},
   "outputs": [
    {
     "data": {
      "text/html": [
       "<div>\n",
       "<style scoped>\n",
       "    .dataframe tbody tr th:only-of-type {\n",
       "        vertical-align: middle;\n",
       "    }\n",
       "\n",
       "    .dataframe tbody tr th {\n",
       "        vertical-align: top;\n",
       "    }\n",
       "\n",
       "    .dataframe thead th {\n",
       "        text-align: right;\n",
       "    }\n",
       "</style>\n",
       "<table border=\"1\" class=\"dataframe\">\n",
       "  <thead>\n",
       "    <tr style=\"text-align: right;\">\n",
       "      <th></th>\n",
       "      <th>score</th>\n",
       "      <th>rmse</th>\n",
       "      <th>seed</th>\n",
       "    </tr>\n",
       "  </thead>\n",
       "  <tbody>\n",
       "    <tr>\n",
       "      <th>0</th>\n",
       "      <td>1.860438</td>\n",
       "      <td>5.760322</td>\n",
       "      <td>42</td>\n",
       "    </tr>\n",
       "    <tr>\n",
       "      <th>1</th>\n",
       "      <td>3.465508</td>\n",
       "      <td>10.860218</td>\n",
       "      <td>43</td>\n",
       "    </tr>\n",
       "    <tr>\n",
       "      <th>2</th>\n",
       "      <td>3.460100</td>\n",
       "      <td>10.820140</td>\n",
       "      <td>44</td>\n",
       "    </tr>\n",
       "    <tr>\n",
       "      <th>3</th>\n",
       "      <td>2.112198</td>\n",
       "      <td>7.062218</td>\n",
       "      <td>45</td>\n",
       "    </tr>\n",
       "    <tr>\n",
       "      <th>4</th>\n",
       "      <td>1.720999</td>\n",
       "      <td>5.629219</td>\n",
       "      <td>46</td>\n",
       "    </tr>\n",
       "  </tbody>\n",
       "</table>\n",
       "</div>"
      ],
      "text/plain": [
       "      score       rmse  seed\n",
       "0  1.860438   5.760322    42\n",
       "1  3.465508  10.860218    43\n",
       "2  3.460100  10.820140    44\n",
       "3  2.112198   7.062218    45\n",
       "4  1.720999   5.629219    46"
      ]
     },
     "execution_count": 21,
     "metadata": {},
     "output_type": "execute_result"
    }
   ],
   "source": [
    "df_all.head()"
   ]
  },
  {
   "cell_type": "code",
   "execution_count": 20,
   "metadata": {},
   "outputs": [
    {
     "data": {
      "image/png": "[encoded data removed]",
      "text/plain": [
       "<Figure size 1000x600 with 1 Axes>"
      ]
     },
     "metadata": {},
     "output_type": "display_data"
    },
    {
     "data": {
      "image/png": "[encoded data removed]",
      "text/plain": [
       "<Figure size 1000x600 with 1 Axes>"
      ]
     },
     "metadata": {},
     "output_type": "display_data"
    }
   ],
   "source": [
    "import pandas as pd\n",
    "import matplotlib.pyplot as plt\n",
    "\n",
    "# Assuming df_all contains the aggregated results from multiple runs\n",
    "# Extract RMSE, NASA score, and test results\n",
    "rmse_values = df_all['rmse']\n",
    "nasa_scores = df_all['score']\n",
    "\n",
    "# Calculate mean and variance for each metric\n",
    "rmse_mean = rmse_values.mean()\n",
    "rmse_variance = rmse_values.var()\n",
    "\n",
    "nasa_mean = nasa_scores.mean()\n",
    "nasa_variance = nasa_scores.var()\n",
    "\n",
    "# Plot RMSE with variance\n",
    "plt.figure(figsize=(10, 6))\n",
    "plt.errorbar(range(len(rmse_values)), rmse_values, yerr=rmse_values.std(), fmt='o', label='RMSE')\n",
    "plt.axhline(y=rmse_mean, color='r', linestyle='-', label='Mean RMSE')\n",
    "plt.fill_between(range(len(rmse_values)), rmse_mean - rmse_values.std(), rmse_mean + rmse_values.std(), alpha=0.2, color='r')\n",
    "plt.title('RMSE with Variance')\n",
    "plt.xlabel('Run')\n",
    "plt.ylabel('RMSE')\n",
    "plt.legend()\n",
    "plt.grid(True)\n",
    "plt.show()\n",
    "\n",
    "# Plot NASA score with variance\n",
    "plt.figure(figsize=(10, 6))\n",
    "plt.errorbar(range(len(nasa_scores)), nasa_scores, yerr=nasa_scores.std(), fmt='o', label='NASA Score')\n",
    "plt.axhline(y=nasa_mean, color='r', linestyle='-', label='Mean NASA Score')\n",
    "plt.fill_between(range(len(nasa_scores)), nasa_mean - nasa_scores.std(), nasa_mean + nasa_scores.std(), alpha=0.2, color='r')\n",
    "plt.title('NASA Score with Variance')\n",
    "plt.xlabel('Run')\n",
    "plt.ylabel('NASA Score')\n",
    "plt.legend()\n",
    "plt.grid(True)\n",
    "plt.show()\n"
   ]
  },
  {
   "cell_type": "code",
   "execution_count": 11,
   "metadata": {},
   "outputs": [
    {
     "data": {
      "text/html": [
       "<div>\n",
       "<style scoped>\n",
       "    .dataframe tbody tr th:only-of-type {\n",
       "        vertical-align: middle;\n",
       "    }\n",
       "\n",
       "    .dataframe tbody tr th {\n",
       "        vertical-align: top;\n",
       "    }\n",
       "\n",
       "    .dataframe thead th {\n",
       "        text-align: right;\n",
       "    }\n",
       "</style>\n",
       "<table border=\"1\" class=\"dataframe\">\n",
       "  <thead>\n",
       "    <tr style=\"text-align: right;\">\n",
       "      <th></th>\n",
       "      <th>score</th>\n",
       "      <th>rmse</th>\n",
       "      <th>seed</th>\n",
       "    </tr>\n",
       "  </thead>\n",
       "  <tbody>\n",
       "    <tr>\n",
       "      <th>0</th>\n",
       "      <td>1.860438</td>\n",
       "      <td>5.760322</td>\n",
       "      <td>42</td>\n",
       "    </tr>\n",
       "    <tr>\n",
       "      <th>1</th>\n",
       "      <td>3.465508</td>\n",
       "      <td>10.860218</td>\n",
       "      <td>43</td>\n",
       "    </tr>\n",
       "    <tr>\n",
       "      <th>2</th>\n",
       "      <td>3.460100</td>\n",
       "      <td>10.820140</td>\n",
       "      <td>44</td>\n",
       "    </tr>\n",
       "    <tr>\n",
       "      <th>3</th>\n",
       "      <td>2.112198</td>\n",
       "      <td>7.062218</td>\n",
       "      <td>45</td>\n",
       "    </tr>\n",
       "    <tr>\n",
       "      <th>4</th>\n",
       "      <td>1.720999</td>\n",
       "      <td>5.629219</td>\n",
       "      <td>46</td>\n",
       "    </tr>\n",
       "  </tbody>\n",
       "</table>\n",
       "</div>"
      ],
      "text/plain": [
       "      score       rmse  seed\n",
       "0  1.860438   5.760322    42\n",
       "1  3.465508  10.860218    43\n",
       "2  3.460100  10.820140    44\n",
       "3  2.112198   7.062218    45\n",
       "4  1.720999   5.629219    46"
      ]
     },
     "execution_count": 11,
     "metadata": {},
     "output_type": "execute_result"
    }
   ],
   "source": [
    "df_all.head()"
   ]
  },
  {
   "cell_type": "markdown",
   "metadata": {},
   "source": [
    "# rest of code\n"
   ]
  },
  {
   "cell_type": "code",
   "execution_count": 14,
   "metadata": {},
   "outputs": [
    {
     "name": "stdout",
     "output_type": "stream",
     "text": [
      "CNN(\n",
      "  (conv_layers): Sequential(\n",
      "    (0): Conv1d(18, 10, kernel_size=(10,), stride=(1,), padding=same)\n",
      "    (1): BatchNorm1d(10, eps=1e-05, momentum=0.1, affine=True, track_running_stats=True)\n",
      "    (2): ReLU()\n",
      "    (3): Conv1d(10, 10, kernel_size=(10,), stride=(1,), padding=same)\n",
      "    (4): BatchNorm1d(10, eps=1e-05, momentum=0.1, affine=True, track_running_stats=True)\n",
      "    (5): ReLU()\n",
      "    (6): Conv1d(10, 10, kernel_size=(10,), stride=(1,), padding=same)\n",
      "    (7): BatchNorm1d(10, eps=1e-05, momentum=0.1, affine=True, track_running_stats=True)\n",
      "    (8): ReLU()\n",
      "  )\n",
      "  (flatten): Flatten(start_dim=1, end_dim=-1)\n",
      "  (fc1): Linear(in_features=500, out_features=50, bias=True)\n",
      "  (dropout): Dropout(p=0.0, inplace=False)\n",
      "  (fc2): Linear(in_features=50, out_features=1, bias=True)\n",
      ")\n",
      "Training model for 3 epochs...\n",
      "[Epoch 1] train_loss = 264.47134, eval_loss = 205.88464, test_loss = 420.09033 [13.7s]\n",
      "[Epoch 2] train_loss = 53.40139, eval_loss = 731.37335, test_loss = 1376.40454 [13.4s]\n",
      "[Epoch 3] train_loss = 50.94416, eval_loss = 48.67375, test_loss = 53.00978 [13.5s]\n",
      "Task done in 40s\n"
     ]
    }
   ],
   "source": [
    "SEED = 42\n",
    "seed_everything(SEED)\n",
    "device = 'mps'\n",
    "\n",
    "model = CNN(\n",
    "  in_channels=DEFAULT_PARAMS['in_channels'],\n",
    "  out_channels=DEFAULT_PARAMS['out_channels'],\n",
    "  n_ch=DEFAULT_PARAMS['n_ch'],\n",
    "  n_k=DEFAULT_PARAMS['n_k'],\n",
    "  n_hidden=DEFAULT_PARAMS['n_hidden'],\n",
    "  n_layers=DEFAULT_PARAMS['n_layers'],\n",
    "  dropout=DEFAULT_PARAMS['dropout'],\n",
    ").to(device)\n",
    "\n",
    "print(model)\n",
    "\n",
    "optimizer = torch.optim.Adam(\n",
    "  model.parameters(),\n",
    "  lr=DEFAULT_PARAMS['base_lr'],\n",
    "  weight_decay=DEFAULT_PARAMS['weight_decay'],\n",
    ")\n",
    "\n",
    "criterion = nn.MSELoss()\n",
    "trainer = Trainer(\n",
    "  model,\n",
    "  optimizer,\n",
    "  criterion=criterion,\n",
    "  n_epochs=DEFAULT_PARAMS['max_epochs'],\n",
    "  seed=SEED,\n",
    "  device=device\n",
    ")\n",
    "\n",
    "trainer.fit(LOADERS)"
   ]
  },
  {
   "cell_type": "code",
   "execution_count": 23,
   "metadata": {},
   "outputs": [
    {
     "name": "stderr",
     "output_type": "stream",
     "text": [
      "/Users/alexei.ermochkine/Desktop/ma5/ML4PM/assignment_3_graded/ML4PM_assignment3/training.py:187: FutureWarning: You are using `torch.load` with `weights_only=False` (the current default value), which uses the default pickle module implicitly. It is possible to construct malicious pickle data which will execute arbitrary code during unpickling (See https://github.com/pytorch/pytorch/blob/main/SECURITY.md#untrusted-models for more details). In a future release, the default value for `weights_only` will be flipped to `True`. This limits the functions that could be executed during unpickling. Arbitrary objects will no longer be allowed to be loaded via this mode unless they are explicitly allowlisted by the user via `torch.serialization.add_safe_globals`. We recommend you start setting `weights_only=True` for any use case where you don't have full control of the loaded file. Please open an issue on GitHub for any issues related to this experimental feature.\n",
      "  model.load_state_dict(torch.load(model_path, map_location=self.device))\n"
     ]
    },
    {
     "name": "stdout",
     "output_type": "stream",
     "text": [
      "Evaluating test RUL...\n",
      "Evaluating test RUL...\n",
      "Model CNN saved in models_baseline/best_model_baseline_1103114421.pt loaded to mps\n"
     ]
    },
    {
     "name": "stderr",
     "output_type": "stream",
     "text": [
      "  0%|          | 0/113 [00:00<?, ?it/s]"
     ]
    },
    {
     "name": "stderr",
     "output_type": "stream",
     "text": [
      "100%|██████████| 113/113 [00:01<00:00, 58.18it/s]\n"
     ]
    }
   ],
   "source": [
    "# Evaluation code\n",
    "print(\"Evaluating test RUL...\")\n",
    "model = trainer.model.to(device)  \n",
    "df_test, df_out = trainer.eval_rul_prediction(LOADERS[-1])"
   ]
  },
  {
   "cell_type": "code",
   "execution_count": 16,
   "metadata": {},
   "outputs": [
    {
     "data": {
      "image/png": "[encoded data removed]",
      "text/plain": [
       "<Figure size 640x480 with 1 Axes>"
      ]
     },
     "metadata": {},
     "output_type": "display_data"
    }
   ],
   "source": [
    "trainer.plot_losses()"
   ]
  },
  {
   "cell_type": "code",
   "execution_count": 24,
   "metadata": {},
   "outputs": [
    {
     "data": {
      "text/plain": [
       "<Axes: >"
      ]
     },
     "execution_count": 24,
     "metadata": {},
     "output_type": "execute_result"
    },
    {
     "data": {
      "image/png": "[encoded data removed]",
      "text/plain": [
       "<Figure size 640x480 with 1 Axes>"
      ]
     },
     "metadata": {},
     "output_type": "display_data"
    }
   ],
   "source": [
    "df_test.plot(y=['true', 'pred'])"
   ]
  },
  {
   "cell_type": "code",
   "execution_count": 30,
   "metadata": {},
   "outputs": [
    {
     "data": {
      "text/html": [
       "<div>\n",
       "<style scoped>\n",
       "    .dataframe tbody tr th:only-of-type {\n",
       "        vertical-align: middle;\n",
       "    }\n",
       "\n",
       "    .dataframe tbody tr th {\n",
       "        vertical-align: top;\n",
       "    }\n",
       "\n",
       "    .dataframe thead th {\n",
       "        text-align: right;\n",
       "    }\n",
       "</style>\n",
       "<table border=\"1\" class=\"dataframe\">\n",
       "  <thead>\n",
       "    <tr style=\"text-align: right;\">\n",
       "      <th></th>\n",
       "      <th>score</th>\n",
       "      <th>rmse</th>\n",
       "      <th>seed</th>\n",
       "    </tr>\n",
       "  </thead>\n",
       "  <tbody>\n",
       "    <tr>\n",
       "      <th>0</th>\n",
       "      <td>1.860438</td>\n",
       "      <td>5.760322</td>\n",
       "      <td>42</td>\n",
       "    </tr>\n",
       "  </tbody>\n",
       "</table>\n",
       "</div>"
      ],
      "text/plain": [
       "      score      rmse  seed\n",
       "0  1.860438  5.760322    42"
      ]
     },
     "execution_count": 30,
     "metadata": {},
     "output_type": "execute_result"
    }
   ],
   "source": [
    "df_out.head()"
   ]
  },
  {
   "cell_type": "code",
   "execution_count": null,
   "metadata": {},
   "outputs": [],
   "source": []
  }
 ],
 "metadata": {
  "accelerator": "GPU",
  "colab": {
   "collapsed_sections": [],
   "provenance": []
  },
  "gpuClass": "standard",
  "kernelspec": {
   "display_name": "venv4ml4pm",
   "language": "python",
   "name": "python3"
  },
  "language_info": {
   "codemirror_mode": {
    "name": "ipython",
    "version": 3
   },
   "file_extension": ".py",
   "mimetype": "text/x-python",
   "name": "python",
   "nbconvert_exporter": "python",
   "pygments_lexer": "ipython3",
   "version": "3.12.3"
  }
 },
 "nbformat": 4,
 "nbformat_minor": 4
}
