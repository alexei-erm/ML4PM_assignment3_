{
 "cells": [
  {
   "cell_type": "code",
   "execution_count": 1,
   "metadata": {},
   "outputs": [],
   "source": [
    "from model import *\n",
    "from utils import *\n",
    "from training import *\n",
    "\n",
    "import importlib\n",
    "import imports\n",
    "importlib.reload(imports)\n",
    "device = 'mps'"
   ]
  },
  {
   "cell_type": "code",
   "execution_count": 2,
   "metadata": {
    "colab": {
     "base_uri": "https://localhost:8080/"
    },
    "id": "_ccLNkIa9Xvx",
    "outputId": "1dd1e3d4-4587-46f1-871e-f72159be57c3"
   },
   "outputs": [
    {
     "name": "stdout",
     "output_type": "stream",
     "text": [
      "/Users/alexei.ermochkine/Desktop/ma5/ML4PM/assignment_3_graded/ML4PM_assignment3/ncmapps_ds02.csv\n"
     ]
    }
   ],
   "source": [
    "folder = os.getcwd()\n",
    "filename = f'{folder}/ncmapps_ds02.csv'\n",
    "print(filename)"
   ]
  },
  {
   "cell_type": "code",
   "execution_count": 3,
   "metadata": {
    "colab": {
     "base_uri": "https://localhost:8080/",
     "height": 235
    },
    "id": "Au1CJA3b95-f",
    "outputId": "b873d351-3e30-4240-d04e-c24c4ffc9520"
   },
   "outputs": [
    {
     "data": {
      "text/html": [
       "<div>\n",
       "<style scoped>\n",
       "    .dataframe tbody tr th:only-of-type {\n",
       "        vertical-align: middle;\n",
       "    }\n",
       "\n",
       "    .dataframe tbody tr th {\n",
       "        vertical-align: top;\n",
       "    }\n",
       "\n",
       "    .dataframe thead th {\n",
       "        text-align: right;\n",
       "    }\n",
       "</style>\n",
       "<table border=\"1\" class=\"dataframe\">\n",
       "  <thead>\n",
       "    <tr style=\"text-align: right;\">\n",
       "      <th></th>\n",
       "      <th>T24</th>\n",
       "      <th>T30</th>\n",
       "      <th>T48</th>\n",
       "      <th>T50</th>\n",
       "      <th>P15</th>\n",
       "      <th>P2</th>\n",
       "      <th>P21</th>\n",
       "      <th>P24</th>\n",
       "      <th>Ps30</th>\n",
       "      <th>P40</th>\n",
       "      <th>...</th>\n",
       "      <th>Wf</th>\n",
       "      <th>alt</th>\n",
       "      <th>Mach</th>\n",
       "      <th>TRA</th>\n",
       "      <th>T2</th>\n",
       "      <th>RUL</th>\n",
       "      <th>Fc</th>\n",
       "      <th>unit</th>\n",
       "      <th>hs</th>\n",
       "      <th>cycle</th>\n",
       "    </tr>\n",
       "  </thead>\n",
       "  <tbody>\n",
       "    <tr>\n",
       "      <th>0</th>\n",
       "      <td>593.28656</td>\n",
       "      <td>1422.0460</td>\n",
       "      <td>1797.2323</td>\n",
       "      <td>1214.0819</td>\n",
       "      <td>15.626362</td>\n",
       "      <td>11.445379</td>\n",
       "      <td>15.864327</td>\n",
       "      <td>19.897537</td>\n",
       "      <td>327.51962</td>\n",
       "      <td>332.79700</td>\n",
       "      <td>...</td>\n",
       "      <td>3.811431</td>\n",
       "      <td>9889.289</td>\n",
       "      <td>0.443401</td>\n",
       "      <td>76.022545</td>\n",
       "      <td>496.67758</td>\n",
       "      <td>74</td>\n",
       "      <td>3</td>\n",
       "      <td>2</td>\n",
       "      <td>1</td>\n",
       "      <td>1</td>\n",
       "    </tr>\n",
       "    <tr>\n",
       "      <th>1</th>\n",
       "      <td>593.30220</td>\n",
       "      <td>1422.3720</td>\n",
       "      <td>1797.9927</td>\n",
       "      <td>1214.1847</td>\n",
       "      <td>15.607640</td>\n",
       "      <td>11.424822</td>\n",
       "      <td>15.845321</td>\n",
       "      <td>19.881628</td>\n",
       "      <td>327.48330</td>\n",
       "      <td>332.75565</td>\n",
       "      <td>...</td>\n",
       "      <td>3.812693</td>\n",
       "      <td>9951.729</td>\n",
       "      <td>0.444472</td>\n",
       "      <td>76.222015</td>\n",
       "      <td>496.53890</td>\n",
       "      <td>74</td>\n",
       "      <td>3</td>\n",
       "      <td>2</td>\n",
       "      <td>1</td>\n",
       "      <td>1</td>\n",
       "    </tr>\n",
       "    <tr>\n",
       "      <th>2</th>\n",
       "      <td>593.14215</td>\n",
       "      <td>1421.8730</td>\n",
       "      <td>1797.1808</td>\n",
       "      <td>1213.5430</td>\n",
       "      <td>15.581609</td>\n",
       "      <td>11.407368</td>\n",
       "      <td>15.818893</td>\n",
       "      <td>19.848164</td>\n",
       "      <td>326.81784</td>\n",
       "      <td>332.08163</td>\n",
       "      <td>...</td>\n",
       "      <td>3.803472</td>\n",
       "      <td>10011.879</td>\n",
       "      <td>0.445830</td>\n",
       "      <td>76.191210</td>\n",
       "      <td>496.43396</td>\n",
       "      <td>74</td>\n",
       "      <td>3</td>\n",
       "      <td>2</td>\n",
       "      <td>1</td>\n",
       "      <td>1</td>\n",
       "    </tr>\n",
       "    <tr>\n",
       "      <th>3</th>\n",
       "      <td>592.98883</td>\n",
       "      <td>1421.4746</td>\n",
       "      <td>1796.5925</td>\n",
       "      <td>1213.0120</td>\n",
       "      <td>15.554759</td>\n",
       "      <td>11.387945</td>\n",
       "      <td>15.791634</td>\n",
       "      <td>19.814800</td>\n",
       "      <td>326.22076</td>\n",
       "      <td>331.47592</td>\n",
       "      <td>...</td>\n",
       "      <td>3.795554</td>\n",
       "      <td>10073.271</td>\n",
       "      <td>0.446986</td>\n",
       "      <td>76.196846</td>\n",
       "      <td>496.30667</td>\n",
       "      <td>74</td>\n",
       "      <td>3</td>\n",
       "      <td>2</td>\n",
       "      <td>1</td>\n",
       "      <td>1</td>\n",
       "    </tr>\n",
       "    <tr>\n",
       "      <th>4</th>\n",
       "      <td>592.66296</td>\n",
       "      <td>1420.8185</td>\n",
       "      <td>1795.7623</td>\n",
       "      <td>1212.4274</td>\n",
       "      <td>15.512026</td>\n",
       "      <td>11.356153</td>\n",
       "      <td>15.748249</td>\n",
       "      <td>19.760134</td>\n",
       "      <td>325.36660</td>\n",
       "      <td>330.60760</td>\n",
       "      <td>...</td>\n",
       "      <td>3.784542</td>\n",
       "      <td>10136.359</td>\n",
       "      <td>0.446471</td>\n",
       "      <td>76.204480</td>\n",
       "      <td>496.02774</td>\n",
       "      <td>74</td>\n",
       "      <td>3</td>\n",
       "      <td>2</td>\n",
       "      <td>1</td>\n",
       "      <td>1</td>\n",
       "    </tr>\n",
       "  </tbody>\n",
       "</table>\n",
       "<p>5 rows × 23 columns</p>\n",
       "</div>"
      ],
      "text/plain": [
       "         T24        T30        T48        T50        P15         P2  \\\n",
       "0  593.28656  1422.0460  1797.2323  1214.0819  15.626362  11.445379   \n",
       "1  593.30220  1422.3720  1797.9927  1214.1847  15.607640  11.424822   \n",
       "2  593.14215  1421.8730  1797.1808  1213.5430  15.581609  11.407368   \n",
       "3  592.98883  1421.4746  1796.5925  1213.0120  15.554759  11.387945   \n",
       "4  592.66296  1420.8185  1795.7623  1212.4274  15.512026  11.356153   \n",
       "\n",
       "         P21        P24       Ps30        P40  ...        Wf        alt  \\\n",
       "0  15.864327  19.897537  327.51962  332.79700  ...  3.811431   9889.289   \n",
       "1  15.845321  19.881628  327.48330  332.75565  ...  3.812693   9951.729   \n",
       "2  15.818893  19.848164  326.81784  332.08163  ...  3.803472  10011.879   \n",
       "3  15.791634  19.814800  326.22076  331.47592  ...  3.795554  10073.271   \n",
       "4  15.748249  19.760134  325.36660  330.60760  ...  3.784542  10136.359   \n",
       "\n",
       "       Mach        TRA         T2  RUL  Fc  unit  hs  cycle  \n",
       "0  0.443401  76.022545  496.67758   74   3     2   1      1  \n",
       "1  0.444472  76.222015  496.53890   74   3     2   1      1  \n",
       "2  0.445830  76.191210  496.43396   74   3     2   1      1  \n",
       "3  0.446986  76.196846  496.30667   74   3     2   1      1  \n",
       "4  0.446471  76.204480  496.02774   74   3     2   1      1  \n",
       "\n",
       "[5 rows x 23 columns]"
      ]
     },
     "execution_count": 3,
     "metadata": {},
     "output_type": "execute_result"
    }
   ],
   "source": [
    "df = pd.read_csv(filename)\n",
    "df.head()"
   ]
  },
  {
   "cell_type": "code",
   "execution_count": 4,
   "metadata": {
    "id": "j-WToY0EQ8gJ"
   },
   "outputs": [],
   "source": [
    "LABELS = ['RUL']"
   ]
  },
  {
   "cell_type": "markdown",
   "metadata": {
    "id": "dQUvTSv8GSeE"
   },
   "source": [
    "Operative Conditions ($w$)\n",
    "\n",
    "DASHlink- Flight Data For Tail 687.(2012). Retrieved on 2019-01-29 from https://c3.nasa.gov/dashlink/"
   ]
  },
  {
   "cell_type": "code",
   "execution_count": 5,
   "metadata": {
    "id": "HrHh3rYqGhGt"
   },
   "outputs": [],
   "source": [
    "W_VAR = ['alt', 'Mach', 'TRA', 'T2']"
   ]
  },
  {
   "cell_type": "markdown",
   "metadata": {
    "id": "yQvRwIJqGN7H"
   },
   "source": [
    "Sensor readings ($X_s$)"
   ]
  },
  {
   "cell_type": "code",
   "execution_count": 6,
   "metadata": {
    "id": "PjgyPJPNGiOI"
   },
   "outputs": [],
   "source": [
    "XS_VAR = ['T24', 'T30', 'T48', 'T50', 'P15', 'P2', 'P21', 'P24', 'Ps30', 'P40', 'P50', 'Nf', 'Nc', 'Wf']\n"
   ]
  },
  {
   "cell_type": "code",
   "execution_count": 7,
   "metadata": {},
   "outputs": [
    {
     "name": "stdout",
     "output_type": "stream",
     "text": [
      "train_size: 403236\tvalidation_size: 100809\ttest_size: 115274\n"
     ]
    }
   ],
   "source": [
    "# dataset parameters\n",
    "TRAIN_UNITS = [2, 5, 10, 16, 18, 20]\n",
    "TEST_UNITS = [11, 14, 15]\n",
    "\n",
    "DEFAULT_PARAMS = {\n",
    "    # CNN model parameters\n",
    "    'in_channels': 18, \n",
    "    'out_channels': 1,\n",
    "    'window': 50, \n",
    "    'n_ch': 10, \n",
    "    'n_k': 10, \n",
    "    'n_hidden': 50, \n",
    "    'n_layers': 3,\n",
    "    'dropout': 0.,\n",
    "    'padding': 'same',\n",
    "    # training parameters\n",
    "    'batch_size': 1024,  \n",
    "    'base_lr': 1e-3,\n",
    "    'weight_decay': 1e-5,\n",
    "    'max_epochs': 50\n",
    "}\n",
    "\n",
    "\n",
    "DATASETS = create_datasets(df, window_size=DEFAULT_PARAMS['window'], train_units=TRAIN_UNITS, test_units=TEST_UNITS)\n",
    "LOADERS = create_data_loaders(DATASETS, batch_size=DEFAULT_PARAMS['batch_size'], val_split=0.2)"
   ]
  },
  {
   "cell_type": "code",
   "execution_count": 8,
   "metadata": {},
   "outputs": [],
   "source": [
    "def run_single(seed, params=DEFAULT_PARAMS):\n",
    "    seed_everything(seed)\n",
    "\n",
    "    model = CNN(\n",
    "        in_channels=params['in_channels'],\n",
    "        out_channels=params['out_channels'], \n",
    "        n_ch=params['n_ch'],\n",
    "        n_k=params['n_k'],\n",
    "        n_hidden=params['n_hidden'],\n",
    "        n_layers=params['n_layers'],\n",
    "        dropout=params['dropout'],\n",
    "    ).to(device)  # Move model to device immediately after creation\n",
    "\n",
    "    optimizer = torch.optim.Adam(\n",
    "        model.parameters(),\n",
    "        lr=params['base_lr'],\n",
    "        weight_decay=params['weight_decay'],\n",
    "    )\n",
    "\n",
    "    criterion = nn.MSELoss()\n",
    "    trainer = Trainer(\n",
    "        model,\n",
    "        optimizer,\n",
    "        criterion=criterion,\n",
    "        n_epochs=params['max_epochs'],\n",
    "        seed=seed,\n",
    "        device=device  # Pass device to trainer\n",
    "    )\n",
    "\n",
    "    trainer.fit(LOADERS)\n",
    "    df_eval, df_eval_out = trainer.eval_rul_prediction(LOADERS[1])\n",
    "    df_test, df_test_out = trainer.eval_rul_prediction(LOADERS[2])\n",
    "    return df_eval, df_eval_out, df_test, df_test_out, trainer.losses4aggregation"
   ]
  },
  {
   "cell_type": "markdown",
   "metadata": {},
   "source": [
    "## TRAINING ON 5 SEEDS"
   ]
  },
  {
   "cell_type": "code",
   "execution_count": null,
   "metadata": {},
   "outputs": [],
   "source": [
    "SEED = 42\n",
    "seed_everything(SEED)\n",
    "device = 'mps'\n",
    "N_RUNS = 5\n",
    "\n",
    "df_list = []  \n",
    "all_df_test = []\n",
    "all_train_losses = []\n",
    "all_eval_losses = []\n",
    "all_test_losses = []\n",
    "\n",
    "for seed in range(SEED, SEED+N_RUNS):\n",
    "    print(\"--------------------- BEGGINING NEW SEED:\", seed, \"----------------\")\n",
    "    df_eval, df_eval_out, df_test, df_test_out, losses4aggregation = run_single(seed)\n",
    "    all_train_losses.append(losses4aggregation['train'])\n",
    "    all_eval_losses.append(losses4aggregation['eval'])\n",
    "    all_test_losses.append(losses4aggregation['test'])\n",
    "    all_df_test.append(df_test)\n",
    "    df_list.append(df_test_out)  \n",
    "\n",
    "df_all = pd.concat(df_list, ignore_index=True)  \n",
    "all_train_losses = np.array(all_train_losses)\n",
    "all_eval_losses = np.array(all_eval_losses)\n",
    "all_test_losses = np.array(all_test_losses)"
   ]
  },
  {
   "cell_type": "markdown",
   "metadata": {},
   "source": [
    "# PLOTTING RESULTS"
   ]
  },
  {
   "cell_type": "code",
   "execution_count": null,
   "metadata": {},
   "outputs": [],
   "source": [
    "\n",
    "for i in range(0, N_RUNS):\n",
    "    all_df_test[i].plot(y=['true', 'pred'])\n",
    "    plt.title(f\"Test data prediction for seed {SEED+i}\")\n"
   ]
  },
  {
   "cell_type": "code",
   "execution_count": null,
   "metadata": {},
   "outputs": [],
   "source": [
    "\n",
    "# Plot the aggregated losses\n",
    "plot_aggregated_losses(all_train_losses, all_eval_losses, all_test_losses)"
   ]
  },
  {
   "cell_type": "code",
   "execution_count": 12,
   "metadata": {},
   "outputs": [
    {
     "data": {
      "text/html": [
       "<div>\n",
       "<style scoped>\n",
       "    .dataframe tbody tr th:only-of-type {\n",
       "        vertical-align: middle;\n",
       "    }\n",
       "\n",
       "    .dataframe tbody tr th {\n",
       "        vertical-align: top;\n",
       "    }\n",
       "\n",
       "    .dataframe thead th {\n",
       "        text-align: right;\n",
       "    }\n",
       "</style>\n",
       "<table border=\"1\" class=\"dataframe\">\n",
       "  <thead>\n",
       "    <tr style=\"text-align: right;\">\n",
       "      <th></th>\n",
       "      <th>score</th>\n",
       "      <th>rmse</th>\n",
       "      <th>seed</th>\n",
       "    </tr>\n",
       "  </thead>\n",
       "  <tbody>\n",
       "    <tr>\n",
       "      <th>0</th>\n",
       "      <td>2.463061</td>\n",
       "      <td>8.036067</td>\n",
       "      <td>42</td>\n",
       "    </tr>\n",
       "    <tr>\n",
       "      <th>1</th>\n",
       "      <td>1.883596</td>\n",
       "      <td>5.741760</td>\n",
       "      <td>43</td>\n",
       "    </tr>\n",
       "    <tr>\n",
       "      <th>2</th>\n",
       "      <td>2.296901</td>\n",
       "      <td>7.453077</td>\n",
       "      <td>44</td>\n",
       "    </tr>\n",
       "    <tr>\n",
       "      <th>3</th>\n",
       "      <td>2.039855</td>\n",
       "      <td>6.471716</td>\n",
       "      <td>45</td>\n",
       "    </tr>\n",
       "    <tr>\n",
       "      <th>4</th>\n",
       "      <td>2.073622</td>\n",
       "      <td>6.608436</td>\n",
       "      <td>46</td>\n",
       "    </tr>\n",
       "  </tbody>\n",
       "</table>\n",
       "</div>"
      ],
      "text/plain": [
       "      score      rmse  seed\n",
       "0  2.463061  8.036067    42\n",
       "1  1.883596  5.741760    43\n",
       "2  2.296901  7.453077    44\n",
       "3  2.039855  6.471716    45\n",
       "4  2.073622  6.608436    46"
      ]
     },
     "execution_count": 12,
     "metadata": {},
     "output_type": "execute_result"
    }
   ],
   "source": [
    "df_all.head()"
   ]
  },
  {
   "cell_type": "code",
   "execution_count": 13,
   "metadata": {},
   "outputs": [
    {
     "data": {
      "text/html": [
       "<div>\n",
       "<style scoped>\n",
       "    .dataframe tbody tr th:only-of-type {\n",
       "        vertical-align: middle;\n",
       "    }\n",
       "\n",
       "    .dataframe tbody tr th {\n",
       "        vertical-align: top;\n",
       "    }\n",
       "\n",
       "    .dataframe thead th {\n",
       "        text-align: right;\n",
       "    }\n",
       "</style>\n",
       "<table border=\"1\" class=\"dataframe\">\n",
       "  <thead>\n",
       "    <tr style=\"text-align: right;\">\n",
       "      <th></th>\n",
       "      <th>score</th>\n",
       "      <th>rmse</th>\n",
       "      <th>seed</th>\n",
       "    </tr>\n",
       "  </thead>\n",
       "  <tbody>\n",
       "    <tr>\n",
       "      <th>0</th>\n",
       "      <td>2.463061</td>\n",
       "      <td>8.036067</td>\n",
       "      <td>42</td>\n",
       "    </tr>\n",
       "    <tr>\n",
       "      <th>1</th>\n",
       "      <td>1.883596</td>\n",
       "      <td>5.741760</td>\n",
       "      <td>43</td>\n",
       "    </tr>\n",
       "    <tr>\n",
       "      <th>2</th>\n",
       "      <td>2.296901</td>\n",
       "      <td>7.453077</td>\n",
       "      <td>44</td>\n",
       "    </tr>\n",
       "    <tr>\n",
       "      <th>3</th>\n",
       "      <td>2.039855</td>\n",
       "      <td>6.471716</td>\n",
       "      <td>45</td>\n",
       "    </tr>\n",
       "    <tr>\n",
       "      <th>4</th>\n",
       "      <td>2.073622</td>\n",
       "      <td>6.608436</td>\n",
       "      <td>46</td>\n",
       "    </tr>\n",
       "  </tbody>\n",
       "</table>\n",
       "</div>"
      ],
      "text/plain": [
       "      score      rmse  seed\n",
       "0  2.463061  8.036067    42\n",
       "1  1.883596  5.741760    43\n",
       "2  2.296901  7.453077    44\n",
       "3  2.039855  6.471716    45\n",
       "4  2.073622  6.608436    46"
      ]
     },
     "execution_count": 13,
     "metadata": {},
     "output_type": "execute_result"
    }
   ],
   "source": [
    "df_all.head()"
   ]
  }
 ],
 "metadata": {
  "accelerator": "GPU",
  "colab": {
   "collapsed_sections": [],
   "provenance": []
  },
  "gpuClass": "standard",
  "kernelspec": {
   "display_name": "venv4ml4pm",
   "language": "python",
   "name": "python3"
  },
  "language_info": {
   "codemirror_mode": {
    "name": "ipython",
    "version": 3
   },
   "file_extension": ".py",
   "mimetype": "text/x-python",
   "name": "python",
   "nbconvert_exporter": "python",
   "pygments_lexer": "ipython3",
   "version": "3.12.3"
  }
 },
 "nbformat": 4,
 "nbformat_minor": 4
}
